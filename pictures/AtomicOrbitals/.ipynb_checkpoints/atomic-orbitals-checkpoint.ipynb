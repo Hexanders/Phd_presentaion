{
 "cells": [
  {
   "cell_type": "code",
   "execution_count": null,
   "metadata": {},
   "outputs": [],
   "source": [
    "%matplotlib inline"
   ]
  },
  {
   "cell_type": "markdown",
   "metadata": {},
   "source": [
    "Plot Atomic Orbitals {#plot_atomic_orbitals_example}\n",
    "====================\n",
    "\n",
    "Visualize the wave functions (orbitals) of the hydrogen atom.\n"
   ]
  },
  {
   "cell_type": "markdown",
   "metadata": {},
   "source": [
    "Import\n",
    "======\n",
    "\n",
    "Import the applicable libraries.\n",
    "\n",
    "::: {.note}\n",
    "::: {.admonition-title}\n",
    "Note\n",
    ":::\n",
    "\n",
    "This example is modeled off of [Matplotlib: Hydrogen Wave\n",
    "Function](http://staff.ustc.edu.cn/~zqj/posts/Hydrogen-Wavefunction/).\n",
    "\n",
    "This example requires [sympy](https://www.sympy.org/). Install it with:\n",
    "\n",
    "``` {.sourceCode .python}\n",
    "pip install sympy\n",
    "```\n",
    ":::\n"
   ]
  },
  {
   "cell_type": "code",
   "execution_count": null,
   "metadata": {},
   "outputs": [],
   "source": [
    "import numpy as np\n",
    "\n",
    "import pyvista as pv\n",
    "from pyvista import examples"
   ]
  },
  {
   "cell_type": "markdown",
   "metadata": {},
   "source": [
    "Generate the Dataset\n",
    "====================\n",
    "\n",
    "Generate the dataset by evaluating the analytic hydrogen wave function\n",
    "from `sympy`.\n",
    "\n",
    "$$\\begin{equation}\n",
    "\\psi_{n\\ell m}(r,\\theta,\\phi)\n",
    "=\n",
    "\\sqrt{\n",
    "\\left(\\frac{2}{na_0}\\right)^3\\, \\frac{(n-\\ell-1)!}{2n[(n+\\ell)!]}\n",
    "}\n",
    "e^{-r / na_0}\n",
    "\\left(\\frac{2r}{na_0}\\right)^\\ell\n",
    "L_{n-\\ell-1}^{2\\ell+1} \\cdot Y_\\ell^m(\\theta, \\phi)\n",
    "\\end{equation}$$\n",
    "\n",
    "See [Hydrogen atom](https://en.wikipedia.org/wiki/Hydrogen_atom) for\n",
    "more details.\n",
    "\n",
    "This dataset evaluates this function for the hydrogen orbital $3d_{xy}$,\n",
    "with the following quantum numbers:\n",
    "\n",
    "-   Principal quantum number: `n=3`\n",
    "-   Azimuthal quantum number: `l=2`\n",
    "-   Magnetic quantum number: `m=-2`\n"
   ]
  },
  {
   "cell_type": "code",
   "execution_count": null,
   "metadata": {},
   "outputs": [],
   "source": [
    "grid = examples.load_hydrogen_orbital(3, 2, -2)\n",
    "grid"
   ]
  },
  {
   "cell_type": "markdown",
   "metadata": {},
   "source": [
    "Plot the Orbital\n",
    "================\n",
    "\n",
    "Plot the orbital using\n",
    "`add_volume() <pyvista.Plotter.add_volume>`{.interpreted-text\n",
    "role=\"func\"} and using the default scalars contained in `grid`,\n",
    "`real_wf`. This way we can plot more than just the probability of the\n",
    "electron, but also the phase of the electron wave function.\n",
    "\n",
    "::: {.note}\n",
    "::: {.admonition-title}\n",
    "Note\n",
    ":::\n",
    "\n",
    "Since the real value of evaluated wave function for this orbital varies\n",
    "between `[-<value>, <value>]`, we cannot use the default opacity\n",
    "`opacity='linear'`. Instead, we use `[1, 0, 1]` since we would like the\n",
    "opacity to be proportional to the absolute value of the scalars.\n",
    ":::\n"
   ]
  },
  {
   "cell_type": "code",
   "execution_count": null,
   "metadata": {},
   "outputs": [],
   "source": [
    "pl = pv.Plotter()\n",
    "vol = pl.add_volume(grid, cmap='magma', opacity=[1, 0, 1])\n",
    "vol.prop.interpolation_type = 'linear'\n",
    "pl.camera.zoom(2)\n",
    "pl.show_axes()\n",
    "pl.show()"
   ]
  },
  {
   "cell_type": "markdown",
   "metadata": {},
   "source": [
    "Plot the Orbital Contours as an Isosurface\n",
    "==========================================\n",
    "\n",
    "Generate the contour plot for the orbital by determining when the\n",
    "orbital equals 10% the maximum value of the orbital. This effectively\n",
    "captures the most likely locations of the electron for this orbital.\n",
    "\n",
    "Note how we use the absolute value of the scalars when evaluating\n",
    "`contour() <pyvista.DataSetFilters.contour>`{.interpreted-text\n",
    "role=\"func\"} to capture where the positive and negative phases cross\n",
    "`eval_at`.\n"
   ]
  },
  {
   "cell_type": "code",
   "execution_count": null,
   "metadata": {},
   "outputs": [],
   "source": [
    "eval_at = grid['real_wf'].max() * 0.1\n",
    "contours = grid.contour(\n",
    "    [eval_at],\n",
    "    scalars=np.abs(grid['real_wf']),\n",
    "    method='marching_cubes',\n",
    ")\n",
    "contours = contours.interpolate(grid)\n",
    "contours.plot(\n",
    "    smooth_shading=True,\n",
    "    show_scalar_bar=False,\n",
    ")"
   ]
  },
  {
   "cell_type": "markdown",
   "metadata": {},
   "source": [
    "Volumetric Plot: Plot the Orbitals using RGBA\n",
    "=============================================\n",
    "\n",
    "Let\\'s now combine some of the best parts of the two above plots. The\n",
    "volumetric plot is great for showing the probability of the \\\"electron\n",
    "cloud\\\" orbitals, but the colormap doesn\\'t quite match reality as well\n",
    "as the isosurface plot.\n",
    "\n",
    "For this example we\\'re going to use an RGBA colormap to tightly control\n",
    "the way the orbitals are plotted. For this, the opacity will be mapped\n",
    "to the probability of the electron being at a location in the grid,\n",
    "which we can do by taking the absolute value squared of the orbital\\'s\n",
    "wave function. We can set the color of the orbital based on the phase,\n",
    "which we can get simply with `orbital['real_wf'] < 0`.\n",
    "\n",
    "Let\\'s start with a simple one, the $3p_z$ orbital.\n"
   ]
  },
  {
   "cell_type": "code",
   "execution_count": null,
   "metadata": {},
   "outputs": [],
   "source": [
    "def plot_orbital(orbital, cpos='iso', clip_plane='x'):\n",
    "    \"\"\"Plot an electron orbital using an RGBA colormap.\"\"\"\n",
    "    neg_mask = orbital['real_wf'] < 0\n",
    "    rgba = np.zeros((orbital.n_points, 4), np.uint8)\n",
    "    rgba[neg_mask, 0] = 255\n",
    "    rgba[~neg_mask, 1] = 255\n",
    "\n",
    "    # normalize opacity\n",
    "    opac = np.abs(orbital['real_wf']) ** 2\n",
    "    opac /= opac.max()\n",
    "    rgba[:, -1] = opac * 255\n",
    "\n",
    "    orbital['plot_scalars'] = rgba\n",
    "\n",
    "    pl = pv.Plotter()\n",
    "    vol = pl.add_volume(\n",
    "        orbital,\n",
    "        scalars='plot_scalars',\n",
    "    )\n",
    "    vol.prop.interpolation_type = 'linear'\n",
    "    if clip_plane:\n",
    "        pl.add_volume_clip_plane(\n",
    "            vol,\n",
    "            normal=clip_plane,\n",
    "            normal_rotation=False,\n",
    "        )\n",
    "    pl.camera_position = cpos\n",
    "    pl.camera.zoom(1.5)\n",
    "    pl.show_axes()\n",
    "    return pl.show()\n",
    "\n",
    "\n",
    "hydro_orbital = examples.load_hydrogen_orbital(3, 1, 0)\n",
    "plot_orbital(hydro_orbital, clip_plane='-x')"
   ]
  },
  {
   "cell_type": "markdown",
   "metadata": {},
   "source": [
    "Volumetric Plot: $4d_{z^2}$ orbital\n",
    "===================================\n"
   ]
  },
  {
   "cell_type": "code",
   "execution_count": null,
   "metadata": {},
   "outputs": [],
   "source": [
    "hydro_orbital = examples.load_hydrogen_orbital(4, 2, 0)\n",
    "plot_orbital(hydro_orbital, clip_plane='-y')"
   ]
  },
  {
   "cell_type": "markdown",
   "metadata": {},
   "source": [
    "Volumetric Plot: $4d_{xz}$ orbital\n",
    "==================================\n"
   ]
  },
  {
   "cell_type": "code",
   "execution_count": null,
   "metadata": {},
   "outputs": [],
   "source": [
    "hydro_orbital = examples.load_hydrogen_orbital(4, 2, -1)\n",
    "plot_orbital(hydro_orbital, clip_plane='-y')"
   ]
  },
  {
   "cell_type": "markdown",
   "metadata": {},
   "source": [
    "Plot an Orbital Using a Density Plot\n",
    "====================================\n",
    "\n",
    "We can also plot atomic orbitals using a 3D density plot. For this, we\n",
    "will use `numpy.random.choice`{.interpreted-text role=\"func\"} to sample\n",
    "all the points of our `pyvista.ImageData`{.interpreted-text\n",
    "role=\"class\"} based on the probability of the electron being at that\n",
    "coordinate.\n"
   ]
  },
  {
   "cell_type": "code",
   "execution_count": null,
   "metadata": {},
   "outputs": [],
   "source": [
    "# Generate the orbital and sample based on the square of the probability of an\n",
    "# electron being within a particular volume of space.\n",
    "hydro_orbital = examples.load_hydrogen_orbital(4, 2, 0, zoom_fac=0.5)\n",
    "prob = np.abs(hydro_orbital['real_wf']) ** 2\n",
    "prob /= prob.sum()\n",
    "indices = np.random.choice(hydro_orbital.n_points, 10000, p=prob)\n",
    "\n",
    "# add a small amount of noise to these coordinates to remove the \"grid like\"\n",
    "# structure present in the underlying ImageData\n",
    "points = hydro_orbital.points[indices]\n",
    "points += np.random.random(points.shape) - 0.5\n",
    "\n",
    "# Create a point cloud and add the phase as the active scalars\n",
    "point_cloud = pv.PolyData(points)\n",
    "point_cloud['phase'] = hydro_orbital['real_wf'][indices] < 0\n",
    "\n",
    "# Turn the point cloud into individual spheres. We do this so we can improve\n",
    "# the plot by enabling surface space ambient occlusion (SSAO)\n",
    "dplot = point_cloud.glyph(\n",
    "    geom=pv.Sphere(theta_resolution=8, phi_resolution=8), scale=False, orient=False\n",
    ")\n",
    "\n",
    "# be sure to enable SSAO here. This makes the \"points\" that are deeper within\n",
    "# the density plot darker.\n",
    "pl = pv.Plotter()\n",
    "pl.add_mesh(\n",
    "    dplot,\n",
    "    smooth_shading=True,\n",
    "    show_scalar_bar=False,\n",
    "    cmap=['red', 'green'],\n",
    "    ambient=0.2,\n",
    ")\n",
    "pl.enable_ssao(radius=10)\n",
    "pl.enable_anti_aliasing()\n",
    "pl.camera.zoom(2)\n",
    "pl.background_color = 'w'\n",
    "pl.show()"
   ]
  },
  {
   "cell_type": "markdown",
   "metadata": {},
   "source": [
    "Density Plot - Gaussian Points Representation\n",
    "=============================================\n",
    "\n",
    "Finally, let\\'s plot the same data using the \\\"Gaussian points\\\"\n",
    "representation.\n"
   ]
  },
  {
   "cell_type": "code",
   "execution_count": null,
   "metadata": {},
   "outputs": [],
   "source": [
    "point_cloud.plot(\n",
    "    style='points_gaussian',\n",
    "    render_points_as_spheres=False,\n",
    "    point_size=3,\n",
    "    emissive=True,\n",
    "    background='k',\n",
    "    show_scalar_bar=False,\n",
    "    cpos='xz',\n",
    "    zoom=2,\n",
    ")"
   ]
  }
 ],
 "metadata": {
  "kernelspec": {
   "display_name": "Python 3 (ipykernel)",
   "language": "python",
   "name": "python3"
  },
  "language_info": {
   "codemirror_mode": {
    "name": "ipython",
    "version": 3
   },
   "file_extension": ".py",
   "mimetype": "text/x-python",
   "name": "python",
   "nbconvert_exporter": "python",
   "pygments_lexer": "ipython3",
   "version": "3.11.2"
  }
 },
 "nbformat": 4,
 "nbformat_minor": 1
}
